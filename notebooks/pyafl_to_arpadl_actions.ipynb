{
 "cells": [
  {
   "cell_type": "code",
   "execution_count": 1,
   "metadata": {},
   "outputs": [],
   "source": [
    "import pandas as pd\n",
    "import warnings\n",
    "from AFLPy.AFLData_Client import load_data, upload_data\n",
    "from afl_analytics.arpadl.pyafl import convert_to_actions\n",
    "\n",
    "warnings.filterwarnings(\"ignore\")\n",
    "\n",
    "pd.options.display.max_rows = 999\n",
    "pd.options.display.max_columns = 999"
   ]
  },
  {
   "cell_type": "code",
   "execution_count": 2,
   "metadata": {},
   "outputs": [],
   "source": [
    "chains = load_data('AFL_API_Match_Chains', ID = \"AFL_2022_F4_Geelong_Sydney\")\n",
    "actions = convert_to_actions(chains)"
   ]
  },
  {
   "cell_type": "code",
   "execution_count": 25,
   "metadata": {},
   "outputs": [],
   "source": [
    "chains = load_data('AFL_API_Match_Chains', ID = \"AFL_2021\")\n",
    "actions = convert_to_actions(chains)"
   ]
  },
  {
   "cell_type": "code",
   "execution_count": 24,
   "metadata": {},
   "outputs": [],
   "source": [
    "chains = load_data('AFL_API_Match_Chains', ID = \"AFL_2022\")\n",
    "actions = convert_to_actions(chains)"
   ]
  },
  {
   "cell_type": "code",
   "execution_count": 5,
   "metadata": {},
   "outputs": [],
   "source": [
    "chains = load_data('AFL_API_Match_Chains', ID = \"AFL_2023\")\n",
    "actions = convert_to_actions(chains)"
   ]
  },
  {
   "cell_type": "code",
   "execution_count": 23,
   "metadata": {},
   "outputs": [],
   "source": [
    "chains = load_data('AFL_API_Match_Chains', ID = \"AFL_2024\")\n",
    "actions = convert_to_actions(chains)"
   ]
  },
  {
   "cell_type": "code",
   "execution_count": 2,
   "metadata": {},
   "outputs": [],
   "source": [
    "chains = load_data('AFL_API_Match_Chains', ID = \"AFL\")\n",
    "actions = convert_to_actions(chains)"
   ]
  },
  {
   "cell_type": "code",
   "execution_count": 12,
   "metadata": {},
   "outputs": [],
   "source": [
    "from AFLPy.AFLData_Client import metadata, get_parameter"
   ]
  },
  {
   "cell_type": "code",
   "execution_count": 21,
   "metadata": {},
   "outputs": [],
   "source": [
    "md = metadata()"
   ]
  },
  {
   "cell_type": "code",
   "execution_count": 22,
   "metadata": {},
   "outputs": [
    {
     "data": {
      "text/html": [
       "<div>\n",
       "<style scoped>\n",
       "    .dataframe tbody tr th:only-of-type {\n",
       "        vertical-align: middle;\n",
       "    }\n",
       "\n",
       "    .dataframe tbody tr th {\n",
       "        vertical-align: top;\n",
       "    }\n",
       "\n",
       "    .dataframe thead th {\n",
       "        text-align: right;\n",
       "    }\n",
       "</style>\n",
       "<table border=\"1\" class=\"dataframe\">\n",
       "  <thead>\n",
       "    <tr style=\"text-align: right;\">\n",
       "      <th></th>\n",
       "      <th>ID</th>\n",
       "      <th>Dataset_Name</th>\n",
       "      <th>Time_Created</th>\n",
       "      <th>Package_Version</th>\n",
       "      <th>Creator</th>\n",
       "      <th>Hash</th>\n",
       "    </tr>\n",
       "  </thead>\n",
       "  <tbody>\n",
       "    <tr>\n",
       "      <th>0</th>\n",
       "      <td>AFL_2024_24_Sydney_Adelaide</td>\n",
       "      <td>Footywire_Player_Stats</td>\n",
       "      <td>2024-08-24 16:18:13</td>\n",
       "      <td>2024.12.1</td>\n",
       "      <td>root</td>\n",
       "      <td>faf3c1c2cbc206509b72847a6b7604a2</td>\n",
       "    </tr>\n",
       "    <tr>\n",
       "      <th>1</th>\n",
       "      <td>AFL_2024_24_Sydney_Adelaide</td>\n",
       "      <td>Footywire_Match_Summary</td>\n",
       "      <td>2024-08-24 16:18:13</td>\n",
       "      <td>2024.12.1</td>\n",
       "      <td>root</td>\n",
       "      <td>b01e447fd8bd3be86b194863c9bf2408</td>\n",
       "    </tr>\n",
       "    <tr>\n",
       "      <th>2</th>\n",
       "      <td>AFL_2024_24_Sydney_Adelaide</td>\n",
       "      <td>Footywire_Fixture</td>\n",
       "      <td>2024-08-24 16:18:13</td>\n",
       "      <td>2024.12.1</td>\n",
       "      <td>root</td>\n",
       "      <td>769cc6754b2e87774459f495384f43db</td>\n",
       "    </tr>\n",
       "    <tr>\n",
       "      <th>3</th>\n",
       "      <td>AFL_2024_24_Richmond_GoldCoast</td>\n",
       "      <td>Footywire_Player_Stats</td>\n",
       "      <td>2024-08-24 16:18:13</td>\n",
       "      <td>2024.12.1</td>\n",
       "      <td>root</td>\n",
       "      <td>6fe483a66623b3107ad4a365deb2fe2c</td>\n",
       "    </tr>\n",
       "    <tr>\n",
       "      <th>4</th>\n",
       "      <td>AFL_2024_24_Richmond_GoldCoast</td>\n",
       "      <td>Footywire_Match_Summary</td>\n",
       "      <td>2024-08-24 16:18:13</td>\n",
       "      <td>2024.12.1</td>\n",
       "      <td>root</td>\n",
       "      <td>45e0a558c35768195ef87fbc35a743ed</td>\n",
       "    </tr>\n",
       "  </tbody>\n",
       "</table>\n",
       "</div>"
      ],
      "text/plain": [
       "                               ID             Dataset_Name  \\\n",
       "0     AFL_2024_24_Sydney_Adelaide   Footywire_Player_Stats   \n",
       "1     AFL_2024_24_Sydney_Adelaide  Footywire_Match_Summary   \n",
       "2     AFL_2024_24_Sydney_Adelaide        Footywire_Fixture   \n",
       "3  AFL_2024_24_Richmond_GoldCoast   Footywire_Player_Stats   \n",
       "4  AFL_2024_24_Richmond_GoldCoast  Footywire_Match_Summary   \n",
       "\n",
       "          Time_Created Package_Version Creator  \\\n",
       "0  2024-08-24 16:18:13       2024.12.1    root   \n",
       "1  2024-08-24 16:18:13       2024.12.1    root   \n",
       "2  2024-08-24 16:18:13       2024.12.1    root   \n",
       "3  2024-08-24 16:18:13       2024.12.1    root   \n",
       "4  2024-08-24 16:18:13       2024.12.1    root   \n",
       "\n",
       "                               Hash  \n",
       "0  faf3c1c2cbc206509b72847a6b7604a2  \n",
       "1  b01e447fd8bd3be86b194863c9bf2408  \n",
       "2  769cc6754b2e87774459f495384f43db  \n",
       "3  6fe483a66623b3107ad4a365deb2fe2c  \n",
       "4  45e0a558c35768195ef87fbc35a743ed  "
      ]
     },
     "execution_count": 22,
     "metadata": {},
     "output_type": "execute_result"
    }
   ],
   "source": [
    "md.head()"
   ]
  },
  {
   "cell_type": "code",
   "execution_count": 19,
   "metadata": {},
   "outputs": [],
   "source": [
    "upload_data(Dataset_Name=\"CG_ARPADL_Data\", Dataset=actions, overwrite=True, update_if_identical=True)"
   ]
  },
  {
   "cell_type": "code",
   "execution_count": 20,
   "metadata": {},
   "outputs": [
    {
     "ename": "AttributeError",
     "evalue": "'DataFrame' object has no attribute 'Hash'",
     "output_type": "error",
     "traceback": [
      "\u001b[0;31m---------------------------------------------------------------------------\u001b[0m",
      "\u001b[0;31mAttributeError\u001b[0m                            Traceback (most recent call last)",
      "\u001b[0;32m/var/folders/fm/_t15h8ls56q08qggzncfm73w0000gn/T/ipykernel_20514/1024526580.py\u001b[0m in \u001b[0;36m?\u001b[0;34m()\u001b[0m\n\u001b[0;32m----> 1\u001b[0;31m \u001b[0mdata\u001b[0m \u001b[0;34m=\u001b[0m \u001b[0mload_data\u001b[0m\u001b[0;34m(\u001b[0m\u001b[0mDataset_Name\u001b[0m\u001b[0;34m=\u001b[0m\u001b[0;34m'CG_ARPADL_Data'\u001b[0m\u001b[0;34m,\u001b[0m \u001b[0mID\u001b[0m \u001b[0;34m=\u001b[0m \u001b[0;34m\"AFL\"\u001b[0m\u001b[0;34m)\u001b[0m\u001b[0;34m\u001b[0m\u001b[0;34m\u001b[0m\u001b[0m\n\u001b[0m",
      "\u001b[0;32m~/opt/anaconda3/envs/afl-analytics-env/lib/python3.11/site-packages/AFLPy/AFLData_Client.py\u001b[0m in \u001b[0;36m?\u001b[0;34m(Dataset_Name, ID)\u001b[0m\n\u001b[1;32m    104\u001b[0m \u001b[0;32mdef\u001b[0m \u001b[0mload_data\u001b[0m\u001b[0;34m(\u001b[0m\u001b[0mDataset_Name\u001b[0m\u001b[0;34m:\u001b[0m\u001b[0mstr\u001b[0m\u001b[0;34m,\u001b[0m \u001b[0mID\u001b[0m \u001b[0;34m=\u001b[0m \u001b[0;32mNone\u001b[0m\u001b[0;34m)\u001b[0m\u001b[0;34m:\u001b[0m\u001b[0;34m\u001b[0m\u001b[0;34m\u001b[0m\u001b[0m\n\u001b[1;32m    105\u001b[0m \u001b[0;34m\u001b[0m\u001b[0m\n\u001b[0;32m--> 106\u001b[0;31m     \u001b[0mmd\u001b[0m \u001b[0;34m=\u001b[0m \u001b[0mdownload_data\u001b[0m\u001b[0;34m(\u001b[0m\u001b[0mDataset_Name\u001b[0m\u001b[0;34m,\u001b[0m \u001b[0mID\u001b[0m\u001b[0;34m)\u001b[0m\u001b[0;34m\u001b[0m\u001b[0;34m\u001b[0m\u001b[0m\n\u001b[0m\u001b[1;32m    107\u001b[0m \u001b[0;34m\u001b[0m\u001b[0m\n\u001b[1;32m    108\u001b[0m     \u001b[0;32mreturn\u001b[0m \u001b[0mpd\u001b[0m\u001b[0;34m.\u001b[0m\u001b[0mconcat\u001b[0m\u001b[0;34m(\u001b[0m\u001b[0;34m[\u001b[0m\u001b[0mread_RDS\u001b[0m\u001b[0;34m(\u001b[0m\u001b[0;34mf\"{get_parameter('cache_folder')}/{hash}.RDS\"\u001b[0m\u001b[0;34m)\u001b[0m \u001b[0;32mfor\u001b[0m \u001b[0mhash\u001b[0m \u001b[0;32min\u001b[0m \u001b[0mmd\u001b[0m\u001b[0;34m.\u001b[0m\u001b[0mHash\u001b[0m\u001b[0;34m]\u001b[0m\u001b[0;34m)\u001b[0m\u001b[0;34m\u001b[0m\u001b[0;34m\u001b[0m\u001b[0m\n",
      "\u001b[0;32m~/opt/anaconda3/envs/afl-analytics-env/lib/python3.11/site-packages/AFLPy/AFLData_Client.py\u001b[0m in \u001b[0;36m?\u001b[0;34m(Dataset_Name, ID)\u001b[0m\n\u001b[1;32m     77\u001b[0m \u001b[0;32mdef\u001b[0m \u001b[0mdownload_data\u001b[0m\u001b[0;34m(\u001b[0m\u001b[0mDataset_Name\u001b[0m \u001b[0;34m=\u001b[0m \u001b[0;32mNone\u001b[0m\u001b[0;34m,\u001b[0m \u001b[0mID\u001b[0m \u001b[0;34m=\u001b[0m \u001b[0;32mNone\u001b[0m\u001b[0;34m)\u001b[0m\u001b[0;34m:\u001b[0m\u001b[0;34m\u001b[0m\u001b[0;34m\u001b[0m\u001b[0m\n\u001b[1;32m     78\u001b[0m \u001b[0;34m\u001b[0m\u001b[0m\n\u001b[1;32m     79\u001b[0m     \u001b[0mcache_folder\u001b[0m \u001b[0;34m=\u001b[0m \u001b[0mget_parameter\u001b[0m\u001b[0;34m(\u001b[0m\u001b[0;34m\"cache_folder\"\u001b[0m\u001b[0;34m)\u001b[0m\u001b[0;34m\u001b[0m\u001b[0;34m\u001b[0m\u001b[0m\n\u001b[0;32m---> 80\u001b[0;31m     \u001b[0mmd\u001b[0m \u001b[0;34m=\u001b[0m \u001b[0mmetadata\u001b[0m\u001b[0;34m(\u001b[0m\u001b[0mDataset_Name\u001b[0m\u001b[0;34m,\u001b[0m \u001b[0mID\u001b[0m\u001b[0;34m)\u001b[0m\u001b[0;34m\u001b[0m\u001b[0;34m\u001b[0m\u001b[0m\n\u001b[0m\u001b[1;32m     81\u001b[0m \u001b[0;34m\u001b[0m\u001b[0m\n\u001b[1;32m     82\u001b[0m     \u001b[0mos\u001b[0m\u001b[0;34m.\u001b[0m\u001b[0mmakedirs\u001b[0m\u001b[0;34m(\u001b[0m\u001b[0mget_parameter\u001b[0m\u001b[0;34m(\u001b[0m\u001b[0;34m\"cache_folder\"\u001b[0m\u001b[0;34m)\u001b[0m\u001b[0;34m,\u001b[0m \u001b[0mexist_ok\u001b[0m\u001b[0;34m=\u001b[0m\u001b[0;32mTrue\u001b[0m\u001b[0;34m)\u001b[0m\u001b[0;34m\u001b[0m\u001b[0;34m\u001b[0m\u001b[0m\n\u001b[1;32m     83\u001b[0m \u001b[0;34m\u001b[0m\u001b[0m\n",
      "\u001b[0;32m~/opt/anaconda3/envs/afl-analytics-env/lib/python3.11/site-packages/AFLPy/AFLData_Client.py\u001b[0m in \u001b[0;36m?\u001b[0;34m(Dataset_Name, ID)\u001b[0m\n\u001b[1;32m     70\u001b[0m         \u001b[0mget_parameter\u001b[0m\u001b[0;34m(\u001b[0m\u001b[0;34m\"api_url\"\u001b[0m\u001b[0;34m)\u001b[0m \u001b[0;34m+\u001b[0m \u001b[0;34m\"/data/metadata\"\u001b[0m\u001b[0;34m,\u001b[0m\u001b[0;34m\u001b[0m\u001b[0;34m\u001b[0m\u001b[0m\n\u001b[1;32m     71\u001b[0m         \u001b[0mcookies\u001b[0m\u001b[0;34m=\u001b[0m\u001b[0mauthelia_cookies\u001b[0m\u001b[0;34m(\u001b[0m\u001b[0;34m)\u001b[0m\u001b[0;34m,\u001b[0m\u001b[0;34m\u001b[0m\u001b[0;34m\u001b[0m\u001b[0m\n\u001b[1;32m     72\u001b[0m         \u001b[0mparams\u001b[0m\u001b[0;34m=\u001b[0m\u001b[0;34m{\u001b[0m\u001b[0;34m'ID'\u001b[0m\u001b[0;34m:\u001b[0m\u001b[0mID\u001b[0m\u001b[0;34m,\u001b[0m \u001b[0;34m'Dataset_Name'\u001b[0m\u001b[0;34m:\u001b[0m\u001b[0mDataset_Name\u001b[0m\u001b[0;34m}\u001b[0m\u001b[0;34m\u001b[0m\u001b[0;34m\u001b[0m\u001b[0m\n\u001b[1;32m     73\u001b[0m         ).json())\n\u001b[0;32m---> 74\u001b[0;31m     \u001b[0mmd\u001b[0m \u001b[0;34m=\u001b[0m \u001b[0mmd\u001b[0m\u001b[0;34m[\u001b[0m\u001b[0mmd\u001b[0m\u001b[0;34m.\u001b[0m\u001b[0mHash\u001b[0m\u001b[0;34m.\u001b[0m\u001b[0mnotna\u001b[0m\u001b[0;34m(\u001b[0m\u001b[0;34m)\u001b[0m\u001b[0;34m]\u001b[0m\u001b[0;34m\u001b[0m\u001b[0;34m\u001b[0m\u001b[0m\n\u001b[0m\u001b[1;32m     75\u001b[0m     \u001b[0;32mreturn\u001b[0m \u001b[0mmd\u001b[0m\u001b[0;34m\u001b[0m\u001b[0;34m\u001b[0m\u001b[0m\n",
      "\u001b[0;32m~/opt/anaconda3/envs/afl-analytics-env/lib/python3.11/site-packages/pandas/core/generic.py\u001b[0m in \u001b[0;36m?\u001b[0;34m(self, name)\u001b[0m\n\u001b[1;32m   5898\u001b[0m             \u001b[0;32mand\u001b[0m \u001b[0mname\u001b[0m \u001b[0;32mnot\u001b[0m \u001b[0;32min\u001b[0m \u001b[0mself\u001b[0m\u001b[0;34m.\u001b[0m\u001b[0m_accessors\u001b[0m\u001b[0;34m\u001b[0m\u001b[0;34m\u001b[0m\u001b[0m\n\u001b[1;32m   5899\u001b[0m             \u001b[0;32mand\u001b[0m \u001b[0mself\u001b[0m\u001b[0;34m.\u001b[0m\u001b[0m_info_axis\u001b[0m\u001b[0;34m.\u001b[0m\u001b[0m_can_hold_identifiers_and_holds_name\u001b[0m\u001b[0;34m(\u001b[0m\u001b[0mname\u001b[0m\u001b[0;34m)\u001b[0m\u001b[0;34m\u001b[0m\u001b[0;34m\u001b[0m\u001b[0m\n\u001b[1;32m   5900\u001b[0m         ):\n\u001b[1;32m   5901\u001b[0m             \u001b[0;32mreturn\u001b[0m \u001b[0mself\u001b[0m\u001b[0;34m[\u001b[0m\u001b[0mname\u001b[0m\u001b[0;34m]\u001b[0m\u001b[0;34m\u001b[0m\u001b[0;34m\u001b[0m\u001b[0m\n\u001b[0;32m-> 5902\u001b[0;31m         \u001b[0;32mreturn\u001b[0m \u001b[0mobject\u001b[0m\u001b[0;34m.\u001b[0m\u001b[0m__getattribute__\u001b[0m\u001b[0;34m(\u001b[0m\u001b[0mself\u001b[0m\u001b[0;34m,\u001b[0m \u001b[0mname\u001b[0m\u001b[0;34m)\u001b[0m\u001b[0;34m\u001b[0m\u001b[0;34m\u001b[0m\u001b[0m\n\u001b[0m",
      "\u001b[0;31mAttributeError\u001b[0m: 'DataFrame' object has no attribute 'Hash'"
     ]
    }
   ],
   "source": [
    "data = load_data(Dataset_Name='CG_ARPADL_Data', ID = \"AFL\")"
   ]
  },
  {
   "cell_type": "code",
   "execution_count": null,
   "metadata": {},
   "outputs": [],
   "source": []
  }
 ],
 "metadata": {
  "kernelspec": {
   "display_name": "afl-analytics-env",
   "language": "python",
   "name": "python3"
  },
  "language_info": {
   "codemirror_mode": {
    "name": "ipython",
    "version": 3
   },
   "file_extension": ".py",
   "mimetype": "text/x-python",
   "name": "python",
   "nbconvert_exporter": "python",
   "pygments_lexer": "ipython3",
   "version": "3.11.0"
  }
 },
 "nbformat": 4,
 "nbformat_minor": 2
}
