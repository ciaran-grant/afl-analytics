{
 "cells": [
  {
   "cell_type": "markdown",
   "metadata": {},
   "source": [
    "Creating STARS_AR Data"
   ]
  },
  {
   "cell_type": "code",
   "execution_count": 4,
   "metadata": {},
   "outputs": [],
   "source": [
    "import pandas as pd\n",
    "from random import sample\n",
    "import warnings\n",
    "\n",
    "from afl_analytics.stars_ar.phase import create_phases, create_match_id_phase\n",
    "from afl_analytics.stars_ar.ratings import create_action_rating, create_phase_ratings, create_phase_score, get_phases, do_phase_clustering, create_exponential_decay_weights\n",
    "\n",
    "warnings.filterwarnings('ignore')"
   ]
  },
  {
   "cell_type": "code",
   "execution_count": 2,
   "metadata": {},
   "outputs": [],
   "source": [
    "actions = pd.read_csv('/arpadl_actions.csv')"
   ]
  },
  {
   "cell_type": "markdown",
   "metadata": {},
   "source": [
    "Create Phases"
   ]
  },
  {
   "cell_type": "markdown",
   "metadata": {},
   "source": [
    "Define new phases after:\n",
    "- Ball goes out of play\n",
    "- Possession changes over\n",
    "- 10 seconds or more+"
   ]
  },
  {
   "cell_type": "code",
   "execution_count": 3,
   "metadata": {},
   "outputs": [],
   "source": [
    "actions = create_phases(actions)"
   ]
  },
  {
   "cell_type": "markdown",
   "metadata": {},
   "source": [
    "Value Phases\n",
    "\n",
    "1. Find similar phases to each other using location and Dynamic Time Warping.\n",
    "2. Phase Rating = proportion of similar phases that end in a goal/score."
   ]
  },
  {
   "cell_type": "code",
   "execution_count": 5,
   "metadata": {
    "vscode": {
     "languageId": "ruby"
    }
   },
   "outputs": [],
   "source": [
    "actions['match_id_phase'] = create_match_id_phase(actions)"
   ]
  },
  {
   "cell_type": "code",
   "execution_count": null,
   "metadata": {},
   "outputs": [],
   "source": [
    "num_sample = 5000"
   ]
  },
  {
   "cell_type": "code",
   "execution_count": null,
   "metadata": {},
   "outputs": [],
   "source": [
    "sample_match_id_phase = sample(list(actions['match_id_phase'].unique()), num_sample)\n",
    "sample_match_id_phase.sort()"
   ]
  },
  {
   "cell_type": "code",
   "execution_count": null,
   "metadata": {},
   "outputs": [],
   "source": [
    "sample_actions = actions[actions['match_id_phase'].isin(sample_match_id_phase)]\n",
    "sample_phases = get_phases(sample_actions)"
   ]
  },
  {
   "cell_type": "code",
   "execution_count": null,
   "metadata": {},
   "outputs": [],
   "source": [
    "labels = do_phase_clustering(sample_phases, n_clusters=20)"
   ]
  },
  {
   "cell_type": "code",
   "execution_count": null,
   "metadata": {},
   "outputs": [],
   "source": [
    "match_id_phase_label_map = dict(zip(sample_match_id_phase, labels))\n",
    "sample_actions['label'] = sample_actions['match_id_phase'].map(match_id_phase_label_map)"
   ]
  },
  {
   "cell_type": "code",
   "execution_count": null,
   "metadata": {},
   "outputs": [],
   "source": [
    "sample_actions['phase_score'] = create_phase_score(sample_actions)"
   ]
  },
  {
   "cell_type": "code",
   "execution_count": null,
   "metadata": {},
   "outputs": [],
   "source": [
    "sample_actions['phase_rating'] = create_phase_ratings(sample_actions)"
   ]
  },
  {
   "cell_type": "markdown",
   "metadata": {},
   "source": [
    "Distribute Value over Actions\n",
    "\n",
    "1. Exponentially weight the actions in a phase. (Latter actions in phase more important)\n",
    "2. Multiply weight by phase ratign"
   ]
  },
  {
   "cell_type": "code",
   "execution_count": null,
   "metadata": {},
   "outputs": [],
   "source": [
    "sample_actions['weights'] = create_exponential_decay_weights(sample_actions)"
   ]
  },
  {
   "cell_type": "code",
   "execution_count": null,
   "metadata": {},
   "outputs": [],
   "source": [
    "sample_actions['action_rating'] = create_action_rating(sample_actions)"
   ]
  },
  {
   "cell_type": "markdown",
   "metadata": {},
   "source": [
    "Player Ratings"
   ]
  },
  {
   "cell_type": "code",
   "execution_count": null,
   "metadata": {},
   "outputs": [],
   "source": [
    "player_total_ratings = sample_actions.groupby('player').agg(\n",
    "    Action_Rating_sum = ('action_rating', 'sum'),\n",
    "    Action_Rating_count = ('action_rating', 'count')\n",
    ")\n",
    "player_total_ratings['Action_Rating_per_Action'] = player_total_ratings['Action_Rating_sum'] / player_total_ratings['Action_Rating_count']"
   ]
  },
  {
   "cell_type": "code",
   "execution_count": null,
   "metadata": {},
   "outputs": [],
   "source": [
    "player_total_ratings.sort_values('Action_Rating_sum', ascending = False).head(10)"
   ]
  },
  {
   "cell_type": "code",
   "execution_count": null,
   "metadata": {},
   "outputs": [],
   "source": []
  }
 ],
 "metadata": {
  "kernelspec": {
   "display_name": "afl-analytics-env",
   "language": "python",
   "name": "python3"
  },
  "language_info": {
   "codemirror_mode": {
    "name": "ipython",
    "version": 3
   },
   "file_extension": ".py",
   "mimetype": "text/x-python",
   "name": "python",
   "nbconvert_exporter": "python",
   "pygments_lexer": "ipython3",
   "version": "3.11.0"
  }
 },
 "nbformat": 4,
 "nbformat_minor": 2
}
